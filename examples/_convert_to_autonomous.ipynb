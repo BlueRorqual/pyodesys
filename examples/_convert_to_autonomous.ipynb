{
 "cells": [
  {
   "cell_type": "code",
   "execution_count": null,
   "metadata": {},
   "outputs": [],
   "source": [
    "import numpy as np\n",
    "import sympy\n",
    "import math\n",
    "import matplotlib.pyplot as plt\n",
    "from pyodesys.symbolic import SymbolicSys\n",
    "sympy.init_printing()\n",
    "%matplotlib inline"
   ]
  },
  {
   "cell_type": "code",
   "execution_count": null,
   "metadata": {},
   "outputs": [],
   "source": [
    "def rhs(t, y, p, backend=math):\n",
    "    return [y[1], backend.sin(t)-p[0]*y[0]]"
   ]
  },
  {
   "cell_type": "code",
   "execution_count": null,
   "metadata": {},
   "outputs": [],
   "source": [
    "odesys = SymbolicSys.from_callback(rhs, 2, 1)"
   ]
  },
  {
   "cell_type": "code",
   "execution_count": null,
   "metadata": {},
   "outputs": [],
   "source": [
    "odesys.exprs"
   ]
  },
  {
   "cell_type": "code",
   "execution_count": null,
   "metadata": {},
   "outputs": [],
   "source": [
    "def analytic(tout, init_y, p):\n",
    "    t, (y0, y1), (k,) = odesys.indep, odesys.dep, odesys.params\n",
    "    c1, c2 = sympy.symbols('c1 c2')\n",
    "    sqk = sympy.sqrt(k)\n",
    "    f = c1*sympy.cos(sqk*t) + c2*sympy.sin(sqk*t) + sympy.sin(t)/(k-1)\n",
    "    dfdt = f.diff(t)\n",
    "    t0 = tout[0]\n",
    "    sol, = sympy.solve([f.subs(t, t0) - init_y[0],\n",
    "                       dfdt.subs(t, t0) - init_y[1]],\n",
    "                      [c1, c2], dict=True)\n",
    "    sol[k] = p[0]\n",
    "    exprs = [f.subs(sol), dfdt.subs(sol)]\n",
    "    cb = sympy.lambdify([t], exprs)\n",
    "    return np.array(cb(tout)).T"
   ]
  },
  {
   "cell_type": "code",
   "execution_count": null,
   "metadata": {},
   "outputs": [],
   "source": [
    "def integrate_and_plot(system):\n",
    "    init_y = [0, 0]\n",
    "    p = [2]\n",
    "    result = system.integrate([0, 80], init_y, p, integrator='cvode', nsteps=5000)\n",
    "    fig, axes = plt.subplots(1, 2, figsize=(10, 4))\n",
    "    result.plot(ax=axes[0])\n",
    "    yref = analytic(result.xout, init_y, p)\n",
    "    result.plot(y=result.yout - yref, ax=axes[1])\n",
    "    print({k: v for k, v in result.info.items() if not k.startswith('internal')})"
   ]
  },
  {
   "cell_type": "code",
   "execution_count": null,
   "metadata": {},
   "outputs": [],
   "source": [
    "asys = odesys.as_autonomous()"
   ]
  },
  {
   "cell_type": "code",
   "execution_count": null,
   "metadata": {},
   "outputs": [],
   "source": [
    "integrate_and_plot(odesys)"
   ]
  },
  {
   "cell_type": "code",
   "execution_count": null,
   "metadata": {},
   "outputs": [],
   "source": [
    "integrate_and_plot(asys)"
   ]
  },
  {
   "cell_type": "code",
   "execution_count": null,
   "metadata": {},
   "outputs": [],
   "source": [
    "odesys.get_jac()"
   ]
  },
  {
   "cell_type": "code",
   "execution_count": null,
   "metadata": {},
   "outputs": [],
   "source": [
    "asys.get_jac()"
   ]
  }
 ],
 "metadata": {
  "kernelspec": {
   "display_name": "Python 3",
   "language": "python",
   "name": "python3"
  },
  "language_info": {
   "codemirror_mode": {
    "name": "ipython",
    "version": 3
   },
   "file_extension": ".py",
   "mimetype": "text/x-python",
   "name": "python",
   "nbconvert_exporter": "python",
   "pygments_lexer": "ipython3",
   "version": "3.6.1"
  }
 },
 "nbformat": 4,
 "nbformat_minor": 2
}

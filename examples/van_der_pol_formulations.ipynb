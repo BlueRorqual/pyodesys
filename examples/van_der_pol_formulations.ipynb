{
 "cells": [
  {
   "cell_type": "markdown",
   "metadata": {},
   "source": [
    "# Van der Pol oscillator\n",
    "We will look at the second order differentual equation (see https://en.wikipedia.org/wiki/Van_der_Pol_oscillator):\n",
    "\n",
    "$$\n",
    "{d^2y_0 \\over dx^2}-\\mu(1-y_0^2){dy_0 \\over dx}+y_0= 0\n",
    "$$"
   ]
  },
  {
   "cell_type": "code",
   "execution_count": null,
   "metadata": {
    "collapsed": false
   },
   "outputs": [],
   "source": [
    "from __future__ import division, print_function\n",
    "import itertools\n",
    "import numpy as np\n",
    "import sympy as sp\n",
    "import matplotlib.pyplot as plt\n",
    "from pyodesys import SymbolicSys\n",
    "sp.init_printing()\n",
    "%matplotlib inline\n",
    "print(sp.__version__)"
   ]
  },
  {
   "cell_type": "markdown",
   "metadata": {},
   "source": [
    "One way to reduce the order of our second order differential equation is to formulate a system of first order ODEs, using:\n",
    "\n",
    "$$ y_1 = \\dot y_0 $$\n",
    "\n",
    "which gives us:\n",
    "\n",
    "$$\n",
    "\\begin{cases}\n",
    "\\dot y_0 = y_1 \\\\\n",
    "\\dot y_1 = \\mu(1-y_0^2) y_1-y_0\n",
    "\\end{cases}\n",
    "$$\n",
    "\n",
    "Let's call this system of ordinary differential equations vdp1:"
   ]
  },
  {
   "cell_type": "code",
   "execution_count": null,
   "metadata": {
    "collapsed": false
   },
   "outputs": [],
   "source": [
    "vdp1 = lambda x, y, p: [y[1], -y[0] + p[0]*y[1]*(1 - y[0]**2)]\n",
    "mu_val = 2.5\n",
    "y0_1 = [0, 1]\n",
    "y0_1, (y0_1[0], vdp1(0, y0_1, [mu_val])[0])"
   ]
  },
  {
   "cell_type": "markdown",
   "metadata": {},
   "source": [
    "An alternative would be to use use the Liénard transformation:\n",
    "\n",
    "$$ y = x - x^3/3 - \\dot x/\\mu $$"
   ]
  },
  {
   "cell_type": "code",
   "execution_count": null,
   "metadata": {
    "collapsed": false
   },
   "outputs": [],
   "source": [
    "transf = lambda y, dydx, p: [y[0], y[0] - y[0]**3/3 - dydx[0]/p[0]]\n",
    "x, mu = sp.symbols('x mu', real=True)\n",
    "y = [yi(x) for yi in sp.symbols('y:2', cls=sp.Function)]\n",
    "dydx = [yi.diff(x) for yi in y]\n",
    "[sp.Eq(yi, expr, evaluate=False) for yi, expr in zip(y, transf(y, dydx, [mu]))]  # Just for displaying"
   ]
  },
  {
   "cell_type": "markdown",
   "metadata": {},
   "source": [
    "which gives us (we could generate this result using SymPy):\n",
    "$$\n",
    "\\begin{cases}\n",
    "\\dot y_0 = \\mu \\left(y_0-\\frac{1}{3}y_0^3-y_1\\right) \\\\\n",
    "\\dot y_1 = \\frac{1}{\\mu} y_0\n",
    "\\end{cases}\n",
    "$$"
   ]
  },
  {
   "cell_type": "code",
   "execution_count": null,
   "metadata": {
    "collapsed": false
   },
   "outputs": [],
   "source": [
    "vdp2 = lambda x, y, p: [p[0]*(y[0] - y[0]**3/3 - y[1]), y[0]/p[0]]\n",
    "y0_2 = transf(y0_1, vdp1(0, y0_1, [mu_val]), [mu_val])\n",
    "(y0_2, y0_2[0], vdp2(0, y0_2, [mu_val])[0])"
   ]
  },
  {
   "cell_type": "code",
   "execution_count": null,
   "metadata": {
    "collapsed": false
   },
   "outputs": [],
   "source": [
    "def solve_and_plot(odesys, y0, tout, mu, solver='cvode', **kwargs):\n",
    "    plt.figure(figsize=(16, 4))\n",
    "    xout, yout, info = odesys.integrate(solver, tout, y0, [mu], **kwargs)\n",
    "    plt.subplot(1, 2, 1)\n",
    "    odesys.plot_result(ls=('-',), c=('k', 'r'))\n",
    "    plt.legend()\n",
    "    plt.subplot(1, 2, 2)\n",
    "    odesys.plot_phase_plane()\n",
    "    odesys.integrate('cvode', [0, tend], y0[::-1], [mu])\n",
    "    odesys.plot_phase_plane(ls='--')\n",
    "    return len(xout), info"
   ]
  },
  {
   "cell_type": "code",
   "execution_count": null,
   "metadata": {
    "collapsed": false
   },
   "outputs": [],
   "source": [
    "tend = 25"
   ]
  },
  {
   "cell_type": "code",
   "execution_count": null,
   "metadata": {
    "collapsed": false
   },
   "outputs": [],
   "source": [
    "odesys1 = SymbolicSys.from_callback(vdp1, 2, 1, names='y0 y1'.split())\n",
    "odesys1.exprs"
   ]
  },
  {
   "cell_type": "code",
   "execution_count": null,
   "metadata": {
    "collapsed": false
   },
   "outputs": [],
   "source": [
    "solve_and_plot(odesys1, y0_1, np.linspace(0, tend, 500), mu_val, solver='cvode')"
   ]
  },
  {
   "cell_type": "markdown",
   "metadata": {},
   "source": [
    "For large values of $\\mu$ we run into trouble:"
   ]
  },
  {
   "cell_type": "code",
   "execution_count": null,
   "metadata": {
    "collapsed": false,
    "scrolled": false
   },
   "outputs": [],
   "source": [
    "for mu_ in [51, 52., 53.]:\n",
    "    odesys1.integrate('cvode', [0, 25], [0, 1], [mu_])\n",
    "    odesys1.plot_phase_plane(indices=(0,1), label=str(mu_))\n",
    "plt.legend()"
   ]
  },
  {
   "cell_type": "markdown",
   "metadata": {},
   "source": [
    "Same thing happens for our alternative formulation:"
   ]
  },
  {
   "cell_type": "code",
   "execution_count": null,
   "metadata": {
    "collapsed": false
   },
   "outputs": [],
   "source": [
    "odesys2 = SymbolicSys.from_callback(vdp2, 2, 1, names='y0 y1'.split())\n",
    "odesys2.exprs"
   ]
  },
  {
   "cell_type": "code",
   "execution_count": null,
   "metadata": {
    "collapsed": false
   },
   "outputs": [],
   "source": [
    "solve_and_plot(odesys2, y0_2, tend, mu_val, solver='cvode')"
   ]
  },
  {
   "cell_type": "code",
   "execution_count": null,
   "metadata": {
    "collapsed": false
   },
   "outputs": [],
   "source": [
    "ls = itertools.cycle(('-', '--', ':'))\n",
    "for mu_ in [10, 20, 30]:\n",
    "    odesys2.integrate('cvode', [0, tend], y0_2, [mu_])\n",
    "    odesys2.plot_phase_plane(indices=(0,1), label=str(mu_), ls=ls.next())\n",
    "plt.legend()"
   ]
  },
  {
   "cell_type": "markdown",
   "metadata": {},
   "source": [
    "## Audio\n",
    "Plotting is instructive from a mathematical sense, but these equations were often investigated also from listening the the audio from electrical circuits:"
   ]
  },
  {
   "cell_type": "code",
   "execution_count": null,
   "metadata": {
    "collapsed": true
   },
   "outputs": [],
   "source": [
    "def arr_to_wav(arr, rate=44100):\n",
    "    from IPython.display import Audio\n",
    "    from scipy.io.wavfile import write\n",
    "    scaled = np.int16(arr/np.max(np.abs(arr)) * 32767)\n",
    "    write('test.wav', rate, scaled)\n",
    "    return Audio('test.wav')"
   ]
  },
  {
   "cell_type": "code",
   "execution_count": null,
   "metadata": {
    "collapsed": false
   },
   "outputs": [],
   "source": [
    "xout, yout, info = odesys1.integrate('cvode', np.linspace(0, 3000, 2*44100), y0_1, [2.0])\n",
    "arr_to_wav(yout[:, 0])"
   ]
  },
  {
   "cell_type": "code",
   "execution_count": null,
   "metadata": {
    "collapsed": true
   },
   "outputs": [],
   "source": [
    "def overlay(tend_mu, odesys=odesys1, time=3, rate=44100, plot=False):\n",
    "    yout_tot = None\n",
    "    for tend, mu in tend_mu:\n",
    "        print(tend, mu)\n",
    "        xout, yout, info = odesys.integrate('cvode', np.linspace(0, tend, time*rate), y0_1, mu)\n",
    "        if yout_tot is None:\n",
    "            yout_tot = yout[:, 0]\n",
    "        else:\n",
    "            yout_tot += yout[:, 0]\n",
    "    if plot:\n",
    "        plt.figure(figsize=(16,4))\n",
    "        plt.plot(yout_tot)\n",
    "    return arr_to_wav(yout_tot, rate=rate)"
   ]
  },
  {
   "cell_type": "code",
   "execution_count": null,
   "metadata": {
    "collapsed": false
   },
   "outputs": [],
   "source": [
    "overlay([\n",
    "    (800, [2.0]),\n",
    "    (900, [2.1]),\n",
    "    (1600, [2.0]),\n",
    "    (1700, [2.2]),\n",
    "], plot=True)"
   ]
  },
  {
   "cell_type": "markdown",
   "metadata": {},
   "source": [
    "## Forced van der pol oscillator"
   ]
  },
  {
   "cell_type": "code",
   "execution_count": null,
   "metadata": {
    "collapsed": false
   },
   "outputs": [],
   "source": [
    "vdp_forced = lambda x, y, p: [y[1], p[1]*sp.sin(p[2]*x) - y[0] + p[0]*y[1]*(1 - y[0]**2)]\n",
    "odesys_forced = SymbolicSys.from_callback(vdp_forced, 2, 3)\n",
    "overlay([(700, [8.53, 1.2, 0.62831853])], odesys_forced, plot=True)  # Chaotic behavior"
   ]
  },
  {
   "cell_type": "markdown",
   "metadata": {},
   "source": [
    "### Transient $\\mu$"
   ]
  },
  {
   "cell_type": "code",
   "execution_count": null,
   "metadata": {
    "collapsed": false
   },
   "outputs": [],
   "source": [
    "vdp_transient = lambda x, y, p: [y[1], - y[0] + p[0]*sp.exp(-p[1]*x)*y[1]*(1 - y[0]**2)]\n",
    "odesys_transient = SymbolicSys.from_callback(vdp_transient, 2, 2)\n",
    "odesys_transient.exprs"
   ]
  },
  {
   "cell_type": "code",
   "execution_count": null,
   "metadata": {
    "collapsed": false
   },
   "outputs": [],
   "source": [
    "overlay([\n",
    "    (1700, [0.1, 1/3200.]),\n",
    "    (1730, [0.5, 1/3200.]),\n",
    "    (3430, [0.1, 2/6430.]),\n",
    "    (3460, [0.5, 2/6430.]),\n",
    "], odesys_transient, plot=True)"
   ]
  }
 ],
 "metadata": {
  "kernelspec": {
   "display_name": "Python 2",
   "language": "python",
   "name": "python2"
  },
  "language_info": {
   "codemirror_mode": {
    "name": "ipython",
    "version": 2
   },
   "file_extension": ".py",
   "mimetype": "text/x-python",
   "name": "python",
   "nbconvert_exporter": "python",
   "pygments_lexer": "ipython2",
   "version": "2.7.6"
  }
 },
 "nbformat": 4,
 "nbformat_minor": 0
}

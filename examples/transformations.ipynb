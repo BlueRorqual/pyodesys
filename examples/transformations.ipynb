{
 "cells": [
  {
   "cell_type": "code",
   "execution_count": null,
   "metadata": {
    "collapsed": false
   },
   "outputs": [],
   "source": [
    "from __future__ import print_function, division, absolute_import\n",
    "import matplotlib.pyplot as plt\n",
    "import sympy as sp\n",
    "from pyodesys.symbolic import SymbolicSys, TransformedSys\n",
    "sp.init_printing()\n",
    "%matplotlib inline\n",
    "print(sp.__version__)"
   ]
  },
  {
   "cell_type": "code",
   "execution_count": null,
   "metadata": {
    "collapsed": false
   },
   "outputs": [],
   "source": [
    "f = lambda t, x, k: [-k[0]*x[0], k[0]*x[0] - k[1]*x[1], k[1]*x[1] - k[2]*x[2], k[2]*x[2]]\n",
    "odesys = SymbolicSys.from_callback(f, 4, 3)\n",
    "odesys.exprs"
   ]
  },
  {
   "cell_type": "code",
   "execution_count": null,
   "metadata": {
    "collapsed": false
   },
   "outputs": [],
   "source": [
    "odesys.integrate_scipy(13, [1, 0, 0, 0], [7, 3, 2])"
   ]
  },
  {
   "cell_type": "code",
   "execution_count": null,
   "metadata": {
    "collapsed": false
   },
   "outputs": [],
   "source": [
    "odesys.f_cb(0, [1, 0, 0, 0], [7, 3, 2])"
   ]
  },
  {
   "cell_type": "code",
   "execution_count": null,
   "metadata": {
    "collapsed": false
   },
   "outputs": [],
   "source": [
    "out = odesys.integrate_scipy([1e-12, 1], [1, 0, 0, 0], [7, 3, 2], name='vode')\n",
    "plt.plot(out[:, 0], out[:, 1:])\n",
    "plt.xlim([0, 1])"
   ]
  },
  {
   "cell_type": "code",
   "execution_count": null,
   "metadata": {
    "collapsed": false
   },
   "outputs": [],
   "source": [
    "logexp = sp.log, sp.exp\n",
    "tsys = TransformedSys.from_callback(f, 4, 3, logexp, logexp)\n",
    "tsys.exprs"
   ]
  },
  {
   "cell_type": "code",
   "execution_count": null,
   "metadata": {
    "collapsed": false
   },
   "outputs": [],
   "source": [
    "sp.powsimp(tsys.exprs[1].expand(), force=True)"
   ]
  },
  {
   "cell_type": "code",
   "execution_count": null,
   "metadata": {
    "collapsed": false
   },
   "outputs": [],
   "source": [
    "out = tsys.integrate_cvode([1e-12, 1], [1, 1e-20, 1e-20, 1e-20], [7., 3, 2], atol=1e-10, rtol=1e-10)"
   ]
  },
  {
   "cell_type": "code",
   "execution_count": null,
   "metadata": {
    "collapsed": false
   },
   "outputs": [],
   "source": [
    "plt.plot(out[:, 0], out[:, 1:])"
   ]
  },
  {
   "cell_type": "code",
   "execution_count": null,
   "metadata": {
    "collapsed": false
   },
   "outputs": [],
   "source": [
    "from pyodesys.tests.test_symbolic import test_TransformedSys_logy_logx as test_loglog"
   ]
  },
  {
   "cell_type": "code",
   "execution_count": null,
   "metadata": {
    "collapsed": false
   },
   "outputs": [],
   "source": [
    "test_loglog()"
   ]
  },
  {
   "cell_type": "code",
   "execution_count": null,
   "metadata": {
    "collapsed": false
   },
   "outputs": [],
   "source": [
    "out = tsys.integrate_gsl([1e-12, 1e-8, 1e-4, 0.1, .2, .3, .4, .5, .6, .8, 1], [1, 1e-20, 1e-20, 1e-20], [7., 3, 2], atol=1e-10, rtol=1e-10, first_step=1e-9)\n",
    "plt.plot(out[:, 0], out[:, 1:])"
   ]
  },
  {
   "cell_type": "code",
   "execution_count": null,
   "metadata": {
    "collapsed": true
   },
   "outputs": [],
   "source": []
  }
 ],
 "metadata": {
  "kernelspec": {
   "display_name": "Python 2",
   "language": "python",
   "name": "python2"
  },
  "language_info": {
   "codemirror_mode": {
    "name": "ipython",
    "version": 2
   },
   "file_extension": ".py",
   "mimetype": "text/x-python",
   "name": "python",
   "nbconvert_exporter": "python",
   "pygments_lexer": "ipython2",
   "version": "2.7.6"
  }
 },
 "nbformat": 4,
 "nbformat_minor": 0
}

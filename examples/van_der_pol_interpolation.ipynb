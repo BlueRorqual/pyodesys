{
 "cells": [
  {
   "cell_type": "markdown",
   "metadata": {},
   "source": [
    "# Van der Pol oscillator\n",
    "We will look at the second order differentual equation (see https://en.wikipedia.org/wiki/Van_der_Pol_oscillator):\n",
    "\n",
    "$$\n",
    "{d^2y_0 \\over dx^2}-\\mu(1-y_0^2){dy_0 \\over dx}+y_0= 0\n",
    "$$"
   ]
  },
  {
   "cell_type": "code",
   "execution_count": null,
   "metadata": {
    "collapsed": false
   },
   "outputs": [],
   "source": [
    "from __future__ import division, print_function\n",
    "import itertools\n",
    "import numpy as np\n",
    "import sympy as sp\n",
    "import matplotlib.pyplot as plt\n",
    "from pyodesys.symbolic import SymbolicSys\n",
    "sp.init_printing()\n",
    "%matplotlib inline\n",
    "print(sp.__version__)"
   ]
  },
  {
   "cell_type": "markdown",
   "metadata": {},
   "source": [
    "One way to reduce the order of our second order differential equation is to formulate a system of first order ODEs, using:\n",
    "\n",
    "$$ y_1 = \\dot y_0 $$\n",
    "\n",
    "which gives us:\n",
    "\n",
    "$$\n",
    "\\begin{cases}\n",
    "\\dot y_0 = y_1 \\\\\n",
    "\\dot y_1 = \\mu(1-y_0^2) y_1-y_0\n",
    "\\end{cases}\n",
    "$$\n",
    "\n",
    "Let's call this system of ordinary differential equations vdp1:"
   ]
  },
  {
   "cell_type": "code",
   "execution_count": null,
   "metadata": {
    "collapsed": false
   },
   "outputs": [],
   "source": [
    "vdp1 = lambda x, y, p: [y[1], -y[0] + p[0]*y[1]*(1 - y[0]**2)]"
   ]
  },
  {
   "cell_type": "code",
   "execution_count": null,
   "metadata": {
    "collapsed": false
   },
   "outputs": [],
   "source": [
    "y0 = [0, 1]\n",
    "mu = 2.5\n",
    "tend = 25"
   ]
  },
  {
   "cell_type": "code",
   "execution_count": null,
   "metadata": {
    "collapsed": false
   },
   "outputs": [],
   "source": [
    "odesys1 = SymbolicSys.from_callback(vdp1, 2, 1, names='y0 y1'.split())\n",
    "odesys1.exprs"
   ]
  },
  {
   "cell_type": "code",
   "execution_count": null,
   "metadata": {
    "collapsed": false
   },
   "outputs": [],
   "source": [
    "# Let us plot using 30 data points\n",
    "odesys1.integrate(np.linspace(0, tend, 20), y0, [mu], name='vode')\n",
    "xplt, yplt = odesys1.plot_result()\n",
    "print(odesys1._internal[1].shape, yplt.shape)"
   ]
  },
  {
   "cell_type": "code",
   "execution_count": null,
   "metadata": {
    "collapsed": false
   },
   "outputs": [],
   "source": [
    "# Let us interpolate between data points\n",
    "odesys1.integrate(np.linspace(0, tend, 20), y0, [mu], integrator='cvode', nderiv=1)\n",
    "xplt, yplt = odesys1.plot_result(m_lim=21)\n",
    "print(odesys1._internal[1].shape, yplt.shape)"
   ]
  },
  {
   "cell_type": "code",
   "execution_count": null,
   "metadata": {
    "collapsed": false,
    "scrolled": true
   },
   "outputs": [],
   "source": [
    "odesys1.integrate(np.linspace(0, tend, 20), y0, [mu], integrator='cvode', nderiv=2)\n",
    "xplt, yplt = odesys1.plot_result(m_lim=21, interpolate=30)\n",
    "print(odesys1._internal[1].shape, yplt.shape)"
   ]
  },
  {
   "cell_type": "markdown",
   "metadata": {},
   "source": [
    "Equidistant points are not optimal for plotting this function. Using ``roots`` kwarg we can make the solver report the output where either the function value, its first or second derivative is zero."
   ]
  },
  {
   "cell_type": "code",
   "execution_count": null,
   "metadata": {
    "collapsed": false
   },
   "outputs": [],
   "source": [
    "odesys2 = SymbolicSys.from_other(odesys1, roots=odesys1.exprs + (odesys1.dep[0],))\n",
    "# We could also add a higher derivative: tuple(odesys1.get_jac().dot(odesys1.exprs)))"
   ]
  },
  {
   "cell_type": "code",
   "execution_count": null,
   "metadata": {
    "collapsed": false
   },
   "outputs": [],
   "source": [
    "# Let us plot using 10 data points\n",
    "xout, yout, info = odesys2.integrate(np.linspace(0, tend, 20), y0, [mu], integrator='cvode',\n",
    "                                     nderiv=1, atol=1e-4, rtol=1e-4)\n",
    "xplt, yplt = odesys2.plot_result(m_lim=21, interpolate=30, indices=[0])\n",
    "xroots, yroots = info['roots_output'][0], info['roots_output'][1][:, 0]\n",
    "plt.plot(xroots, yroots, 'bd')\n",
    "print(odesys2._internal[1].shape, yplt.shape, xroots.size)"
   ]
  },
  {
   "cell_type": "code",
   "execution_count": null,
   "metadata": {
    "collapsed": false
   },
   "outputs": [],
   "source": [
    "odesys2.roots"
   ]
  }
 ],
 "metadata": {
  "kernelspec": {
   "display_name": "Python 3",
   "language": "python",
   "name": "python3"
  },
  "language_info": {
   "codemirror_mode": {
    "name": "ipython",
    "version": 3
   },
   "file_extension": ".py",
   "mimetype": "text/x-python",
   "name": "python",
   "nbconvert_exporter": "python",
   "pygments_lexer": "ipython3",
   "version": "3.5.2"
  }
 },
 "nbformat": 4,
 "nbformat_minor": 0
}

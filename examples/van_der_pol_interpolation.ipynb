{
 "cells": [
  {
   "cell_type": "markdown",
   "metadata": {},
   "source": [
    "# Van der Pol oscillator\n",
    "We will look at the second order differentual equation (see https://en.wikipedia.org/wiki/Van_der_Pol_oscillator):\n",
    "\n",
    "$$\n",
    "{d^2y_0 \\over dx^2}-\\mu(1-y_0^2){dy_0 \\over dx}+y_0= 0\n",
    "$$"
   ]
  },
  {
   "cell_type": "code",
   "execution_count": null,
   "metadata": {
    "collapsed": false
   },
   "outputs": [],
   "source": [
    "from __future__ import division, print_function\n",
    "import itertools\n",
    "import numpy as np\n",
    "import sympy as sp\n",
    "import matplotlib.pyplot as plt\n",
    "from pyodesys.symbolic import SymbolicSys\n",
    "sp.init_printing()\n",
    "%matplotlib inline\n",
    "print(sp.__version__)"
   ]
  },
  {
   "cell_type": "markdown",
   "metadata": {},
   "source": [
    "One way to reduce the order of our second order differential equation is to formulate a system of first order ODEs, using:\n",
    "\n",
    "$$ y_1 = \\dot y_0 $$\n",
    "\n",
    "which gives us:\n",
    "\n",
    "$$\n",
    "\\begin{cases}\n",
    "\\dot y_0 = y_1 \\\\\n",
    "\\dot y_1 = \\mu(1-y_0^2) y_1-y_0\n",
    "\\end{cases}\n",
    "$$\n",
    "\n",
    "Let's call this system of ordinary differential equations vdp1:"
   ]
  },
  {
   "cell_type": "code",
   "execution_count": null,
   "metadata": {
    "collapsed": false
   },
   "outputs": [],
   "source": [
    "vdp1 = lambda x, y, p: [y[1], -y[0] + p[0]*y[1]*(1 - y[0]**2)]"
   ]
  },
  {
   "cell_type": "code",
   "execution_count": null,
   "metadata": {
    "collapsed": false
   },
   "outputs": [],
   "source": [
    "y0 = [0, 1]\n",
    "mu = 2.5\n",
    "tend = 25"
   ]
  },
  {
   "cell_type": "code",
   "execution_count": null,
   "metadata": {
    "collapsed": false
   },
   "outputs": [],
   "source": [
    "odesys1 = SymbolicSys.from_callback(vdp1, 2, 1, names='y0 y1'.split())\n",
    "odesys1.exprs"
   ]
  },
  {
   "cell_type": "code",
   "execution_count": null,
   "metadata": {
    "collapsed": false
   },
   "outputs": [],
   "source": [
    "# Let us plot using 30 data points\n",
    "odesys1.integrate(np.linspace(0, tend, 30), y0, [mu], name='vode')\n",
    "xout, yout = odesys1.plot_result()"
   ]
  },
  {
   "cell_type": "markdown",
   "metadata": {},
   "source": [
    "If a smaller number of data points is desired, interpolation might be useful. Let us investigate some approaches:"
   ]
  },
  {
   "cell_type": "code",
   "execution_count": null,
   "metadata": {
    "collapsed": false,
    "scrolled": true
   },
   "outputs": [],
   "source": [
    "def solve_and_plot(sparse=0, roots=None, nderiv=0, interpolate=None, **kwargs):\n",
    "    odesys2 = SymbolicSys(zip(odesys1.dep, odesys1.exprs), odesys1.indep, odesys1.params, roots=roots)\n",
    "    xout2, yout2, info2 = odesys2.integrate([0, tend], y0, [mu], integrator='cvode', sparse=sparse, nderiv=nderiv)\n",
    "    info2.pop('root_indices', None)\n",
    "    if interpolate is None:\n",
    "        interpolate = nderiv > 0\n",
    "    plt.figure(figsize=(14, 8 if interpolate else 4))\n",
    "    ax1 = plt.subplot(2 if interpolate else 1, 1, 1)\n",
    "    c = ('k', 'r')\n",
    "    xplot, yplot = odesys2.plot_result(interpolate=interpolate, m_lim=100,\n",
    "                                       ls=('-',), c=c, **kwargs)\n",
    "    plt.ylabel('y')\n",
    "    \n",
    "    if interpolate:\n",
    "        xref, yref, inforef = odesys2.integrate(xplot, y0, [mu], integrator='cvode',\n",
    "                                                force_predefined=True, nsteps=5000)\n",
    "        for idx, y in enumerate(yref.T):\n",
    "            plt.plot(xref, y, ls='--', c=c[idx], alpha=0.35)\n",
    "        \n",
    "        plt.subplots_adjust(hspace=0.0005)\n",
    "        ax2 = plt.subplot(2, 1, 2, sharex=ax1)\n",
    "        plt.ylabel('error')\n",
    "        ydiff = yplot - yref\n",
    "        for idx, y in enumerate(ydiff.T):\n",
    "            plt.plot(xref, y, ls='-', c=c[idx])\n",
    "        plt.setp(ax1.get_xticklabels(), visible=False)\n",
    "    \n",
    "    plt.xlabel('x')\n",
    "    info2.pop('internal_xout')\n",
    "    info2.pop('internal_yout')\n",
    "    return info2, xplot, yplot"
   ]
  },
  {
   "cell_type": "code",
   "execution_count": null,
   "metadata": {
    "collapsed": false
   },
   "outputs": [],
   "source": [
    "info, xplot, yplot = solve_and_plot(sparse=-1)  # this will just output data points at t0 and tend\n",
    "info"
   ]
  },
  {
   "cell_type": "markdown",
   "metadata": {},
   "source": [
    "Report for times where either derivative is zero:"
   ]
  },
  {
   "cell_type": "code",
   "execution_count": null,
   "metadata": {
    "collapsed": false,
    "scrolled": false
   },
   "outputs": [],
   "source": [
    "info, xplot, yplot = solve_and_plot(sparse=-1, roots=odesys1.exprs, lines=0.3)\n",
    "info"
   ]
  },
  {
   "cell_type": "markdown",
   "metadata": {},
   "source": [
    "Use the first derivative in the interpolation"
   ]
  },
  {
   "cell_type": "code",
   "execution_count": null,
   "metadata": {
    "collapsed": false
   },
   "outputs": [],
   "source": [
    "info, xplot, yplot = solve_and_plot(sparse=-1, roots=odesys1.exprs, nderiv=1)\n",
    "info"
   ]
  },
  {
   "cell_type": "markdown",
   "metadata": {},
   "source": [
    "Use first and second derivative in the interpolation"
   ]
  },
  {
   "cell_type": "code",
   "execution_count": null,
   "metadata": {
    "collapsed": false
   },
   "outputs": [],
   "source": [
    "info, xplot, yplot = solve_and_plot(sparse=-1, roots=odesys1.exprs, nderiv=2)\n",
    "info"
   ]
  },
  {
   "cell_type": "markdown",
   "metadata": {},
   "source": [
    "Since the system is small we can formulate equations for where the second derivative is zero:"
   ]
  },
  {
   "cell_type": "code",
   "execution_count": null,
   "metadata": {
    "collapsed": false
   },
   "outputs": [],
   "source": [
    "d2fdx2 = tuple(odesys1.get_jac().dot(odesys1.exprs))\n",
    "d2fdx2"
   ]
  },
  {
   "cell_type": "markdown",
   "metadata": {},
   "source": [
    "Let's solve and report at all points where either y0'=0, y1'=0, y0''=0 or y1''=0"
   ]
  },
  {
   "cell_type": "code",
   "execution_count": null,
   "metadata": {
    "collapsed": false
   },
   "outputs": [],
   "source": [
    "info, xplot, yplot = solve_and_plot(sparse=-1, roots=odesys1.exprs + d2fdx2)\n",
    "info"
   ]
  },
  {
   "cell_type": "markdown",
   "metadata": {},
   "source": [
    "Using the first derivative"
   ]
  },
  {
   "cell_type": "code",
   "execution_count": null,
   "metadata": {
    "collapsed": false,
    "scrolled": true
   },
   "outputs": [],
   "source": [
    "info, xplot, yplot = solve_and_plot(sparse=-1, roots=odesys1.exprs + d2fdx2, nderiv=1)\n",
    "info"
   ]
  },
  {
   "cell_type": "markdown",
   "metadata": {},
   "source": [
    "And also the second"
   ]
  },
  {
   "cell_type": "code",
   "execution_count": null,
   "metadata": {
    "collapsed": false
   },
   "outputs": [],
   "source": [
    "info, xplot, yplot = solve_and_plot(sparse=-1, roots=odesys1.exprs + d2fdx2, nderiv=2)\n",
    "info"
   ]
  },
  {
   "cell_type": "code",
   "execution_count": null,
   "metadata": {
    "collapsed": false
   },
   "outputs": [],
   "source": [
    "import scipy.interpolate\n",
    "info, xplot, yplot = solve_and_plot(sparse=-1, roots=odesys1.exprs + d2fdx2, nderiv=0, interpolate=True,\n",
    "                                    interp_from_deriv=scipy.interpolate.PchipInterpolator)"
   ]
  }
 ],
 "metadata": {
  "kernelspec": {
   "display_name": "Python 3",
   "language": "python",
   "name": "python3"
  },
  "language_info": {
   "codemirror_mode": {
    "name": "ipython",
    "version": 3
   },
   "file_extension": ".py",
   "mimetype": "text/x-python",
   "name": "python",
   "nbconvert_exporter": "python",
   "pygments_lexer": "ipython3",
   "version": "3.4.3"
  }
 },
 "nbformat": 4,
 "nbformat_minor": 0
}

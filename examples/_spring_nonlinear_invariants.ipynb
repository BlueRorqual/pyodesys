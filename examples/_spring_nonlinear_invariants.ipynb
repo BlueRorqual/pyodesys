{
 "cells": [
  {
   "cell_type": "code",
   "execution_count": null,
   "metadata": {
    "collapsed": true
   },
   "outputs": [],
   "source": [
    "import numpy as np\n",
    "import matplotlib.pyplot as plt\n",
    "from pyodesys.symbolic import SymbolicSys\n",
    "%matplotlib inline"
   ]
  },
  {
   "cell_type": "code",
   "execution_count": null,
   "metadata": {
    "collapsed": true
   },
   "outputs": [],
   "source": [
    "def dydt(t, y, params, backend):\n",
    "    return [y[1], -y[0]*params[0]]  # y'' = -k y => y = C1 + sin(k**0.5 * x + C2)"
   ]
  },
  {
   "cell_type": "code",
   "execution_count": null,
   "metadata": {
    "collapsed": false
   },
   "outputs": [],
   "source": [
    "odesys = SymbolicSys.from_callback(dydt, 2, 1)\n",
    "odesys.nonlinear_invariants = [odesys.params[0]*odesys.dep[0]**2/2 + odesys.dep[1]**2/2]\n",
    "A0, spring_const = 3, 5\n",
    "res = odesys.integrate(17, [A0, 0], [spring_const], integrator='cvode', method='adams', nsteps=2000)\n",
    "print({k: v for k, v in res.info.items() if not k.startswith('internal_')})"
   ]
  },
  {
   "cell_type": "code",
   "execution_count": null,
   "metadata": {
    "collapsed": true
   },
   "outputs": [],
   "source": [
    "def analytic(x):\n",
    "    return A0*np.cos(spring_const**.5*x)"
   ]
  },
  {
   "cell_type": "code",
   "execution_count": null,
   "metadata": {
    "collapsed": false
   },
   "outputs": [],
   "source": [
    "fig, axes = plt.subplots(1, 3, figsize=(12, 3))\n",
    "res.plot(ax=axes[0])\n",
    "\n",
    "lo, hi = 1.27, 1.52\n",
    "xplt = np.linspace(lo, hi)\n",
    "axes[1].plot(xplt, analytic(xplt), ls=':')\n",
    "res.plot(ax=axes[1], between=(lo, hi), indices=(0,))\n",
    "axes[1].axvline(spring_const**-.5 * np.pi, 0, 1) #, transform=axes[1].get_xaxis_transform())\n",
    "axes[1].axvline(res.xout[np.argmin(res.yout[res.xout<2, 0])], 0, 1, linestyle='--') # transform=axes[1].get_xaxis_transform(), \n",
    "x_select, y_select = res.between(lo, hi)\n",
    "axes[2].plot(x_select, y_select[:, 0] - analytic(x_select))\n",
    "plt.tight_layout()"
   ]
  },
  {
   "cell_type": "code",
   "execution_count": null,
   "metadata": {
    "collapsed": false
   },
   "outputs": [],
   "source": [
    "x_at = np.linspace(lo, hi)\n",
    "plt.plot(x_at, [res.at(_)[0] for _ in x_at])"
   ]
  },
  {
   "cell_type": "code",
   "execution_count": null,
   "metadata": {
    "collapsed": false
   },
   "outputs": [],
   "source": [
    "import scipy; print(scipy.__version__)"
   ]
  },
  {
   "cell_type": "code",
   "execution_count": null,
   "metadata": {
    "collapsed": false
   },
   "outputs": [],
   "source": [
    "_ = res.plot_invariant_violations()"
   ]
  },
  {
   "cell_type": "code",
   "execution_count": null,
   "metadata": {
    "collapsed": false
   },
   "outputs": [],
   "source": [
    "import matplotlib.pyplot as plt\n",
    "odesys.nonlinear_invariant_names = ['energy']\n",
    "_ = res.plot_invariant_violations()\n",
    "_ = plt.legend(loc='best')"
   ]
  }
 ],
 "metadata": {
  "kernelspec": {
   "display_name": "Python 3",
   "language": "python",
   "name": "python3"
  },
  "language_info": {
   "codemirror_mode": {
    "name": "ipython",
    "version": 3
   },
   "file_extension": ".py",
   "mimetype": "text/x-python",
   "name": "python",
   "nbconvert_exporter": "python",
   "pygments_lexer": "ipython3",
   "version": "3.5.2"
  }
 },
 "nbformat": 4,
 "nbformat_minor": 1
}

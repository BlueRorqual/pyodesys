{
 "cells": [
  {
   "cell_type": "code",
   "execution_count": null,
   "metadata": {
    "collapsed": true
   },
   "outputs": [],
   "source": [
    "from IPython.display import display\n",
    "import matplotlib.pyplot as plt\n",
    "from mpl_toolkits.mplot3d import Axes3D\n",
    "from pyodesys.symbolic import SymbolicSys\n",
    "%matplotlib inline"
   ]
  },
  {
   "cell_type": "markdown",
   "metadata": {},
   "source": [
    "3 body system in 3 dimensional space => 9 spatial + 9 momentum degrees of freedom"
   ]
  },
  {
   "cell_type": "code",
   "execution_count": null,
   "metadata": {
    "collapsed": true
   },
   "outputs": [],
   "source": [
    "def dydt(t, y, params=(), be=None):\n",
    "    x0, y0, z0, x1, y1, z1, x2, y2, z2, px0, py0, pz0, px1, py1, pz1, px2, py2, pz2 = y\n",
    "    m0, m1, m2 = params\n",
    "    r01 = be.sqrt((x0 - x1)**2 + (y0 - y1)**2 + (z0 - z1)**2)\n",
    "    r02 = be.sqrt((x0 - x2)**2 + (y0 - y2)**2 + (z0 - z2)**2)\n",
    "    r12 = be.sqrt((x1 - x2)**2 + (y1 - y2)**2 + (z1 - z2)**2)\n",
    "    f01 = m0*m1/r01\n",
    "    f02 = m0*m2/r02\n",
    "    f12 = m1*m2/r12\n",
    "    e01 = ((x1 - x0)/r01, (y1 - y0)/r01, (z1 - z0)/r01)\n",
    "    e02 = ((x2 - x0)/r02, (y2 - y0)/r02, (z2 - z0)/r02)\n",
    "    e12 = ((x2 - x1)/r12, (y2 - y1)/r12, (z2 - z1)/r12)\n",
    "    f0 = [f01*c01 + f02*c02 for c01, c02 in zip(e01, e02)]\n",
    "    f1 = [-f01*c01 + f12*c12 for c01, c12 in zip(e01, e12)]\n",
    "    f2 = [-f02*c02 - f12*c12 for c02, c12 in zip(e02, e12)]\n",
    "    return [\n",
    "        px0/m0, py0/m0, pz0/m0,\n",
    "        px1/m1, py1/m1, pz0/m1,\n",
    "        px2/m2, py2/m2, pz2/m2,\n",
    "        f0[0], f0[1], f0[2],\n",
    "        f1[0], f1[1], f1[2],\n",
    "        f2[0], f2[1], f2[2],\n",
    "    ]  # pos, momentum"
   ]
  },
  {
   "cell_type": "code",
   "execution_count": null,
   "metadata": {
    "collapsed": false
   },
   "outputs": [],
   "source": [
    "odesys = SymbolicSys.from_callback(dydt, 18, 3)"
   ]
  },
  {
   "cell_type": "code",
   "execution_count": null,
   "metadata": {
    "collapsed": false
   },
   "outputs": [],
   "source": [
    "y0  = [0, 0, 0, 0, 0, 1, 0, 1, 0] + [0]*9\n",
    "res = odesys.integrate(5, y0, [2, 3, 4], integrator='cvode', method='adams', nsteps=5000)"
   ]
  },
  {
   "cell_type": "code",
   "execution_count": null,
   "metadata": {
    "collapsed": false
   },
   "outputs": [],
   "source": [
    "_ = res.plot()"
   ]
  },
  {
   "cell_type": "code",
   "execution_count": null,
   "metadata": {
    "collapsed": false
   },
   "outputs": [],
   "source": [
    "fig1 = plt.figure()\n",
    "ax = fig1.gca(projection='3d')\n",
    "ax.plot(*res.yout[:, 0:3].T, alpha=1.0, color='r')\n",
    "ax.plot(*res.yout[:, 3:6].T, alpha=1.0, color='g')\n",
    "ax.plot(*res.yout[:, 6:9].T, alpha=1.0, color='b')"
   ]
  }
 ],
 "metadata": {
  "kernelspec": {
   "display_name": "Python 3",
   "language": "python",
   "name": "python3"
  },
  "language_info": {
   "codemirror_mode": {
    "name": "ipython",
    "version": 3
   },
   "file_extension": ".py",
   "mimetype": "text/x-python",
   "name": "python",
   "nbconvert_exporter": "python",
   "pygments_lexer": "ipython3",
   "version": "3.5.2"
  }
 },
 "nbformat": 4,
 "nbformat_minor": 1
}

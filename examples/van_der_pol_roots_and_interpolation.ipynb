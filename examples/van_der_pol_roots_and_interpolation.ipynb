{
 "cells": [
  {
   "cell_type": "code",
   "execution_count": null,
   "metadata": {
    "collapsed": false
   },
   "outputs": [],
   "source": [
    "from __future__ import division, print_function\n",
    "import sympy as sp\n",
    "import matplotlib.pyplot as plt\n",
    "from pyodesys import SymbolicSys\n",
    "sp.init_printing()\n",
    "%matplotlib inline"
   ]
  },
  {
   "cell_type": "code",
   "execution_count": null,
   "metadata": {
    "collapsed": false
   },
   "outputs": [],
   "source": [
    "tend=25; y0=[0, 1]; mu=1.5"
   ]
  },
  {
   "cell_type": "code",
   "execution_count": null,
   "metadata": {
    "collapsed": false
   },
   "outputs": [],
   "source": [
    "plt.figure(figsize=(14, 4))\n",
    "odesys1 = SymbolicSys.from_callback(lambda x, y, p: [y[1], -y[0] + p[0]*y[1]*(1 - y[0]**2)], 2, 1)\n",
    "xout1, yout1, info1 = odesys1.integrate('cvode', [0, tend], y0, [mu])\n",
    "odesys1.plot_result(ls=('-',), c=('k', 'r'))\n",
    "len(xout1), info1"
   ]
  },
  {
   "cell_type": "code",
   "execution_count": null,
   "metadata": {
    "collapsed": false,
    "scrolled": true
   },
   "outputs": [],
   "source": [
    "def solve_and_plot(sparse=0, roots=None, nderiv=0, interpolate=None, **kwargs):\n",
    "    odesys2 = SymbolicSys(zip(odesys1.dep, odesys1.exprs), odesys1.indep, odesys1.params, roots=roots)\n",
    "    xout2, yout2, info2 = odesys2.integrate('cvode', [0, tend], y0, [mu], sparse=sparse, nderiv=nderiv)\n",
    "    info2.pop('root_indices', None)\n",
    "    if interpolate is None:\n",
    "        interpolate = nderiv > 0\n",
    "    plt.figure(figsize=(14, 8 if interpolate else 4))\n",
    "    ax1 = plt.subplot(2 if interpolate else 1, 1, 1)\n",
    "    c = ('k', 'r')\n",
    "    xplot, yplot = odesys2.plot_result(interpolate=interpolate, m_lim=100,\n",
    "                                       ls=('-',), c=c, **kwargs)\n",
    "    \n",
    "    if interpolate:\n",
    "        xref, yref, inforef = odesys2.integrate('cvode', xplot, y0, [mu], force_predefined=True, nsteps=5000)\n",
    "        for idx, y in enumerate(yref.T):\n",
    "            plt.plot(xref, y, ls='--', c=c[idx], alpha=0.35)\n",
    "        \n",
    "        plt.subplots_adjust(hspace=0.0005)\n",
    "        ax2 = plt.subplot(2, 1, 2, sharex=ax1)\n",
    "        ydiff = yplot - yref\n",
    "        for idx, y in enumerate(ydiff.T):\n",
    "            plt.plot(xref, y, ls='-', c=c[idx])\n",
    "        plt.setp(ax1.get_xticklabels(), visible=False)\n",
    "        \n",
    "    return info2, xplot, yplot"
   ]
  },
  {
   "cell_type": "code",
   "execution_count": null,
   "metadata": {
    "collapsed": false
   },
   "outputs": [],
   "source": [
    "info, xplot, yplot = solve_and_plot(sparse=-1)\n",
    "info"
   ]
  },
  {
   "cell_type": "code",
   "execution_count": null,
   "metadata": {
    "collapsed": false,
    "scrolled": false
   },
   "outputs": [],
   "source": [
    "info, xplot, yplot = solve_and_plot(sparse=-1, roots=odesys1.exprs, lines=0.3)\n",
    "info"
   ]
  },
  {
   "cell_type": "code",
   "execution_count": null,
   "metadata": {
    "collapsed": false
   },
   "outputs": [],
   "source": [
    "info, xplot, yplot = solve_and_plot(sparse=-1, roots=odesys1.exprs, nderiv=1)\n",
    "info"
   ]
  },
  {
   "cell_type": "code",
   "execution_count": null,
   "metadata": {
    "collapsed": false
   },
   "outputs": [],
   "source": [
    "info, xplot, yplot = solve_and_plot(sparse=-1, roots=odesys1.exprs, nderiv=2)\n",
    "info"
   ]
  },
  {
   "cell_type": "code",
   "execution_count": null,
   "metadata": {
    "collapsed": false
   },
   "outputs": [],
   "source": [
    "d2fdx2 = tuple(odesys1.get_jac().dot(odesys1.exprs))\n",
    "d2fdx2"
   ]
  },
  {
   "cell_type": "code",
   "execution_count": null,
   "metadata": {
    "collapsed": false
   },
   "outputs": [],
   "source": [
    "info, xplot, yplot = solve_and_plot(sparse=-1, roots=odesys1.exprs + d2fdx2)\n",
    "info"
   ]
  },
  {
   "cell_type": "code",
   "execution_count": null,
   "metadata": {
    "collapsed": false
   },
   "outputs": [],
   "source": [
    "info, xplot, yplot = solve_and_plot(sparse=-1, roots=odesys1.exprs + d2fdx2, nderiv=1)\n",
    "info"
   ]
  },
  {
   "cell_type": "code",
   "execution_count": null,
   "metadata": {
    "collapsed": false
   },
   "outputs": [],
   "source": [
    "info, xplot, yplot = solve_and_plot(sparse=-1, roots=odesys1.exprs + d2fdx2, nderiv=2)\n",
    "info"
   ]
  },
  {
   "cell_type": "code",
   "execution_count": null,
   "metadata": {
    "collapsed": false
   },
   "outputs": [],
   "source": [
    "import scipy.interpolate\n",
    "info, xplot, yplot = solve_and_plot(sparse=-1, roots=odesys1.exprs + d2fdx2, nderiv=0, interpolate=True,\n",
    "                                    interp_from_deriv=scipy.interpolate.PchipInterpolator)"
   ]
  }
 ],
 "metadata": {
  "kernelspec": {
   "display_name": "Python 2",
   "language": "python",
   "name": "python2"
  },
  "language_info": {
   "codemirror_mode": {
    "name": "ipython",
    "version": 2
   },
   "file_extension": ".py",
   "mimetype": "text/x-python",
   "name": "python",
   "nbconvert_exporter": "python",
   "pygments_lexer": "ipython2",
   "version": "2.7.6"
  }
 },
 "nbformat": 4,
 "nbformat_minor": 0
}

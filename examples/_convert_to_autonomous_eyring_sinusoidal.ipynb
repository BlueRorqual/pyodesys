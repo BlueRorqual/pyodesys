{
 "cells": [
  {
   "cell_type": "code",
   "execution_count": null,
   "metadata": {},
   "outputs": [],
   "source": [
    "import numpy as np\n",
    "import sympy\n",
    "import math\n",
    "import matplotlib.pyplot as plt\n",
    "from pyodesys.symbolic import SymbolicSys\n",
    "sympy.init_printing()\n",
    "%matplotlib inline"
   ]
  },
  {
   "cell_type": "code",
   "execution_count": null,
   "metadata": {},
   "outputs": [],
   "source": [
    "# 2 HNO2 -> H2O + NO + NO2; MassAction(EyringHS.fk('dH1', 'dS1'))\n",
    "# 2 NO2 -> N2O4; MassAction(EyringHS.fk('dH2', 'dS2'))\n",
    "#\n",
    "# HNO2 H2O NO NO2 N2O4\n",
    "def get_odesys(scaling=1):\n",
    "    def rhs(t, y, p, backend=math):\n",
    "        HNO2, H2O, NO, NO2, N2O4 = y\n",
    "        dH1, dS1, dH2, dS2 = p\n",
    "        R = 8.314\n",
    "        T = 300 + 10*backend.sin(0.2*math.pi*t - math.pi/2)\n",
    "        kB_h = 2.08366e10\n",
    "        k1 = kB_h*T*backend.exp(dS1/R - dH1/(R*T))/scaling  # bimolecular => scaling**-1\n",
    "        k2 = kB_h*T*backend.exp(dS2/R - dH2/(R*T))/scaling  # bimolecular => scaling**-1\n",
    "        r1 = k1*HNO2**2\n",
    "        r2 = k2*NO2**2\n",
    "        return [-2*r1, r1, r1, r1 - 2*r2, r2]\n",
    "    \n",
    "    return SymbolicSys.from_callback(rhs, 5, 4, names='HNO2 H2O NO NO2 N2O4'.split(), param_names='dH1 dS1 dH2 dS2'.split())"
   ]
  },
  {
   "cell_type": "code",
   "execution_count": null,
   "metadata": {},
   "outputs": [],
   "source": [
    "def integrate_and_plot(system, axes=None, scaling=1):\n",
    "    init_y = [1*scaling, 55*scaling, 0, 0, 0]\n",
    "    p = [85e3, 10, 70e3, 20]\n",
    "    result = system.integrate(np.linspace(0, 60, 200), init_y, p, integrator='cvode', nsteps=5000)\n",
    "    if axes is None:\n",
    "        fig, axes = plt.subplots(1, 2, figsize=(10, 4))\n",
    "    result.plot(ax=axes[0], indices=[0,2,4])\n",
    "    result.plot(ax=axes[1], indices=[3])\n",
    "    print({k: v for k, v in sorted(result.info.items()) if not k.startswith('internal')})\n",
    "    return result"
   ]
  },
  {
   "cell_type": "code",
   "execution_count": null,
   "metadata": {},
   "outputs": [],
   "source": [
    "def compare_autonomous(scaling):\n",
    "    fig, all_axes = plt.subplots(3, 2, figsize=(10, 14))\n",
    "    odesys = get_odesys(scaling)\n",
    "    autsys = odesys.as_autonomous()\n",
    "    res1 = integrate_and_plot(odesys, axes=all_axes[0, :], scaling=scaling)\n",
    "    res2 = integrate_and_plot(autsys, axes=all_axes[1, :], scaling=scaling)\n",
    "    assert np.allclose(res1.yout, res2.yout, atol=1e-6)\n",
    "    diff = res1.yout-res2.yout\n",
    "    res1.plot(ax=all_axes[2, 0], indices=[0,2,4], y=diff/scaling)\n",
    "    res1.plot(ax=all_axes[2, 1], indices=[3], y=diff/scaling)"
   ]
  },
  {
   "cell_type": "code",
   "execution_count": null,
   "metadata": {},
   "outputs": [],
   "source": [
    "compare_autonomous(1)"
   ]
  },
  {
   "cell_type": "code",
   "execution_count": null,
   "metadata": {},
   "outputs": [],
   "source": [
    "compare_autonomous(1000)"
   ]
  },
  {
   "cell_type": "code",
   "execution_count": null,
   "metadata": {},
   "outputs": [],
   "source": []
  }
 ],
 "metadata": {
  "kernelspec": {
   "display_name": "Python 3",
   "language": "python",
   "name": "python3"
  },
  "language_info": {
   "codemirror_mode": {
    "name": "ipython",
    "version": 3
   },
   "file_extension": ".py",
   "mimetype": "text/x-python",
   "name": "python",
   "nbconvert_exporter": "python",
   "pygments_lexer": "ipython3",
   "version": "3.5.2"
  }
 },
 "nbformat": 4,
 "nbformat_minor": 2
}

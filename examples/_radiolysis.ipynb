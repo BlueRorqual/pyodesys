{
 "cells": [
  {
   "cell_type": "code",
   "execution_count": null,
   "metadata": {
    "collapsed": true
   },
   "outputs": [],
   "source": [
    "from collections import defaultdict\n",
    "import gzip\n",
    "import pickle\n",
    "import codecs\n",
    "import matplotlib.pyplot as plt\n",
    "from pyodesys.symbolic import SymbolicSys, symmetricsys, get_logexp\n",
    "from _chem_kinet import get_odesys\n",
    "%matplotlib inline"
   ]
  },
  {
   "cell_type": "code",
   "execution_count": null,
   "metadata": {
    "collapsed": true
   },
   "outputs": [],
   "source": [
    "data = \"\"\"\n",
    "H4sIALeGpVgC/42YC1BUVRjH9wICvspHRlo+W+VDXTDQwNSFe4XO+mortTZ1pQUvKiFwAMUgFMjI\n",
    "R6agkvIQTbOyNPKVmqSphNBML4acsUZn7DE+ZiRrJqeXdPfcC9zdvYfP2dmZe875nf/57nfP+f57\n",
    "t9C/gJrA0cNkMi1NdyXnJGbJrmQqOKkfOKk/zDDN8FO+hh/ZSQOAN6gB3TAg0A0IXQBBmEIwBnTH\n",
    "gB4Y0BPLQy9MoTcG3IcB92NAHwzoiwH9MKA/BjyAAQOwx/2gp4LgA4RgSzyEAQMxYBAGPIwBj2DA\n",
    "YAwYggFDMWAYBgzHgBEY8CgGmDFgJAaMwoBQDAAMCMOA0RgwBgPGYoAFA8IxIAIDxmHAYxgQiQFR\n",
    "GDAeAyZgwOMYEI0BMV0DsqOn4oVprhx5ZWK6a5mcTSc66RPAes3ywnxLAbhomJlOcgS7e2yJ+ZEF\n",
    "djOdrDbtNjdhplMcQR2jZmp1+LOWmcY6AlTMTOMcvToFVE5UZ2ktSV2TtVTVqdqaGhCvKeiIBG3d\n",
    "hfljlNaTmp46Rjr0ojTaJrNwmOVPc9LpiuXPAL7RsfTN7EyfnyEwS59fPwPgKego64Khgh10A4IB\n",
    "8DToho2AZ8Cj29dFngWvTsELmA0+woIHMAcMohd0wFzw6PaN4Tnwmucdw/NgsLZ+CYcv4BnkC+AR\n",
    "nG8M88Anek+F+WBwe/oYFhgdJz8d4ASDNOkVFmKWnwiGw0IH8CJfQWCAy/jMCx1AEnB3pAokYz9c\n",
    "FgF/PgNk7DZTeEG2KywG3qPWgCXAj4ABS4EfAQNSecVR0PLwEvA2rKaQxk+UqrAMOE+iXSEdOMPt\n",
    "ecgwSrVeIRP4wwygwM8CA7KAfw8MyAbeydaAHDCqTTpgOfDzyIAVwC8fDMgFboVSU72yK6sTFOBl\n",
    "zCzzMCAfA17BgAIMWIUBqzGgELN8twtmZmUsokVOWqy44KuglTGBo7iGXy9U4DXstJcAz7804HXg\n",
    "L8CAtVhJWoed1fXAP4gM2AAe5dz3Lt7gF1YV2Aj8isWAN7FysAn7PbEZi6HUKFH6JcqAZ7IasAV8\n",
    "bcUD2Ao8g9OAbd612xso9/6PwRt4Cytq27GyuAOM7FEHVGBFrRIzuSpsT1ZjJrcTOzg1mMntwmxy\n",
    "N2Zyb2M2uQczub3Y0XsHM7l92Ll4F9sP72H74X3M5PZjNvkBZnIfYjvqAGZyBzGb/AgzuVrMJj/m\n",
    "7wd1iUN8BRU4jG37I1gmj2KGcgz4CzDgE+zgHO96V8uObooLqq+8J5z0JDgClbZscb/u0k/ZG6wt\n",
    "0k5PsSu7zULrHH6sj37mENwX9DTrsNvoGWaoCh1JP1f7IulZdV6khZ5TtZS+8yrn7qxXxcbQL9QJ\n",
    "FtqgToiy0AsyCyXTleValk0bnbQJiPhPzzUlm/KqifhH6KqWorImIt5u7T784JVNRBp4QjpGqvOI\n",
    "NGxD/dKh5eVECkhccPZA1hQidV9QMND+s51IA+YKw78JbCNScLjLFLbH0nkhFi3++/uyqiNKz/yU\n",
    "edHJ44jUbXzGivMjpc4LMf9i49WSPr0V5cyqjY3f7ieSKTfmqx1flxAxbHdr29YfK4m4ffDg3T9E\n",
    "BRBrUerMC9evjCXirVlpKQ1Tr+ouGjJWHb597ToRdxbKv8YULifWv36ZUD7nUB2RYtsag5JqT5HY\n",
    "4yNOrlsSr4QRmnTtz0lHbymBNay/s3/IcSJGpY88U1M37Z4YMXRranNpaIIBE3vup9TZvSwtJC5k\n",
    "TvTEiH1HidS/uHJv/2hCxNyEO03ZV0tJXETh6r6TdwCJDfq3/pD/jRoiFl/ql5tScYeIN2/WbLE1\n",
    "7SNxe2lLYXPrJWL9r3nz2km71pIpv9fduBsyYQ05HfhbraUixkSsl2LiB01PqCfW79oubF6Zk9oJ\n",
    "Wy9fHuYcdXEbsd7NGl37ZXCQvDz8f4KclQygGAAA\"\"\""
   ]
  },
  {
   "cell_type": "code",
   "execution_count": null,
   "metadata": {
    "collapsed": false
   },
   "outputs": [],
   "source": [
    "imported = pickle.loads(gzip.decompress(codecs.decode(data.encode('utf-8'), 'base64')))"
   ]
  },
  {
   "cell_type": "code",
   "execution_count": null,
   "metadata": {
    "collapsed": false
   },
   "outputs": [],
   "source": [
    "linsys = get_odesys(imported['reac'], imported['prod'], imported['names'],\n",
    "                    SymbolicSys, latex_names=imported['latex_names'], dep_by_name=True)"
   ]
  },
  {
   "cell_type": "code",
   "execution_count": null,
   "metadata": {
    "collapsed": false
   },
   "outputs": [],
   "source": [
    "def integrate_and_plot(odesys):\n",
    "    res = odesys.integrate(1e6, defaultdict(float, {'H2O': 55.4, 'H+': 1e-7, 'OH-': 1e-7, 'H2O2': [0, 1e-3, 1e-4]}),\n",
    "                           imported['params'], integrator='cvode')\n",
    "    fig, axes = plt.subplots(1, len(res), figsize=(16, 5))\n",
    "    for r, ax in zip(res, axes):\n",
    "        r.plot(xscale='log', yscale='log', ax=ax, legend=dict(prop={'size': 8}))"
   ]
  },
  {
   "cell_type": "code",
   "execution_count": null,
   "metadata": {
    "collapsed": false
   },
   "outputs": [],
   "source": [
    "integrate_and_plot(linsys)"
   ]
  },
  {
   "cell_type": "code",
   "execution_count": null,
   "metadata": {
    "collapsed": true
   },
   "outputs": [],
   "source": [
    "LogLogSys = symmetricsys(get_logexp(1, 1e-24), get_logexp(1, 1e-12))\n",
    "tsys = LogLogSys.from_other(odesys)"
   ]
  },
  {
   "cell_type": "code",
   "execution_count": null,
   "metadata": {
    "collapsed": false
   },
   "outputs": [],
   "source": [
    "# would neeed to tile in pre_process:\n",
    "#integrate_and_plot(tsys)"
   ]
  },
  {
   "cell_type": "code",
   "execution_count": null,
   "metadata": {
    "collapsed": true
   },
   "outputs": [],
   "source": []
  }
 ],
 "metadata": {
  "kernelspec": {
   "display_name": "Python 3",
   "language": "python",
   "name": "python3"
  },
  "language_info": {
   "codemirror_mode": {
    "name": "ipython",
    "version": 3
   },
   "file_extension": ".py",
   "mimetype": "text/x-python",
   "name": "python",
   "nbconvert_exporter": "python",
   "pygments_lexer": "ipython3",
   "version": "3.5.2"
  }
 },
 "nbformat": 4,
 "nbformat_minor": 1
}

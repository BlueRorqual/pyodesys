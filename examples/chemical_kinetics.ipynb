{
 "cells": [
  {
   "cell_type": "code",
   "execution_count": null,
   "metadata": {
    "collapsed": true
   },
   "outputs": [],
   "source": [
    "from operator import mul\n",
    "from functools import reduce\n",
    "import numpy as np\n",
    "import sympy as sp\n",
    "import matplotlib.pyplot as plt\n",
    "from pyodesys.symbolic import SymbolicSys\n",
    "from pyodesys.native import native_sys\n",
    "sp.init_printing()\n",
    "%matplotlib inline"
   ]
  },
  {
   "cell_type": "code",
   "execution_count": null,
   "metadata": {
    "collapsed": true
   },
   "outputs": [],
   "source": [
    "# Fe+3 + SCN- <-> FeSCN+2\n",
    "stoich_reac, stoich_prod = [(1, 1, 0), (0, 0, 1)], [(0, 0, 1), (1, 1, 0)]"
   ]
  },
  {
   "cell_type": "code",
   "execution_count": null,
   "metadata": {
    "collapsed": true
   },
   "outputs": [],
   "source": [
    "def reaction_rates(t, C, params):\n",
    "    for i, k in enumerate(params):\n",
    "        yield reduce(mul, [k] + [C[j]**n for j, n in enumerate(stoich_reac[i])])"
   ]
  },
  {
   "cell_type": "code",
   "execution_count": null,
   "metadata": {
    "collapsed": true
   },
   "outputs": [],
   "source": [
    "def dCdt(t, C, params):\n",
    "    rates = list(reaction_rates(t, C, params))\n",
    "    result = [0]*len(C)\n",
    "    for r, sr, sp in zip(rates, stoich_reac, stoich_prod):\n",
    "        for i in range(len(C)):\n",
    "            result[i] += r*(sp[i] - sr[i])\n",
    "    return result"
   ]
  },
  {
   "cell_type": "code",
   "execution_count": null,
   "metadata": {
    "collapsed": false
   },
   "outputs": [],
   "source": [
    "kineticsys = SymbolicSys.from_callback(dCdt, 3, 2, latex_names=['$%s$' % s for s in 'Fe^{3+} SCN^- FeSCN^{2+}'.split()],\n",
    "                                   steady_state_root=True)"
   ]
  },
  {
   "cell_type": "code",
   "execution_count": null,
   "metadata": {
    "collapsed": false
   },
   "outputs": [],
   "source": [
    "def integrate_and_plot(odesys, plot=True, **kwargs):\n",
    "    tend = 2\n",
    "    result = odesys.integrate(tend, [1e-2, 2e-3, 0], [800, 8], integrator='cvode', **kwargs)\n",
    "    if plot:\n",
    "        fig, axes = plt.subplots(1, 2, figsize=(14, 4))\n",
    "        if result.xout[-1] != tend:\n",
    "            axes[0].axvline(result.xout[-1], linestyle='--', label='t = %.4f' % result.xout[-1])\n",
    "        result.plot(ax=axes[0])\n",
    "        result.plot(ax=axes[1], deriv=True)\n",
    "        axes[1].set_yscale('symlog', linthreshy=1e-9)\n",
    "        axes[1].axhline(1e-9, linestyle='--')\n",
    "        axes[1].axhline(-1e-9, linestyle='--')\n",
    "        for ax in axes:\n",
    "            ax.set_xlim([0, tend])\n",
    "    return result"
   ]
  },
  {
   "cell_type": "code",
   "execution_count": null,
   "metadata": {
    "collapsed": false
   },
   "outputs": [],
   "source": [
    "integrate_and_plot(kineticsys)"
   ]
  },
  {
   "cell_type": "code",
   "execution_count": null,
   "metadata": {
    "collapsed": false
   },
   "outputs": [],
   "source": [
    "integrate_and_plot(kineticsys, atol=1e-14, rtol=1e-14)"
   ]
  },
  {
   "cell_type": "code",
   "execution_count": null,
   "metadata": {
    "collapsed": false
   },
   "outputs": [],
   "source": [
    "integrate_and_plot(kineticsys, atol=1e-14, rtol=1e-14, return_on_root=True)"
   ]
  },
  {
   "cell_type": "code",
   "execution_count": null,
   "metadata": {
    "collapsed": false
   },
   "outputs": [],
   "source": [
    "kineticsys.roots"
   ]
  },
  {
   "cell_type": "code",
   "execution_count": null,
   "metadata": {
    "collapsed": false
   },
   "outputs": [],
   "source": [
    "native_override = lambda n: {\n",
    "        'p_nroots': \"\"\" return 1; \"\"\",\n",
    "        'p_roots': \"\"\"\n",
    "    const int ny = get_ny();\n",
    "    std::vector<double> f(ny);\n",
    "    double tot=0.0;\n",
    "    rhs(x, y, &f[0]);\n",
    "    for (int i=0; i<ny; ++i){\n",
    "        tot += std::min(std::abs(f[i]/m_atol[i]), std::abs(f[i]/y[i]/m_rtol));\n",
    "    }\n",
    "    out[0] = tot/ny - %d;\n",
    "    this->nrev++;\n",
    "    return AnyODE::Status::success;\n",
    "\"\"\" % n}\n",
    "nativesys = native_sys['cvode'].from_other(kineticsys, namespace_override=native_override(1000))\n",
    "print(open(next(filter(lambda s: s.endswith('.cpp'), nativesys._native._written_files))).read())"
   ]
  },
  {
   "cell_type": "code",
   "execution_count": null,
   "metadata": {
    "collapsed": false
   },
   "outputs": [],
   "source": [
    "res = integrate_and_plot(nativesys, atol=1e-14, rtol=1e-14, return_on_root=True)\n",
    "print(res.info['success'])"
   ]
  },
  {
   "cell_type": "code",
   "execution_count": null,
   "metadata": {
    "collapsed": false
   },
   "outputs": [],
   "source": [
    "integrate_and_plot(nativesys, atol=1e-13, rtol=1e-13, return_on_root=True)"
   ]
  },
  {
   "cell_type": "code",
   "execution_count": null,
   "metadata": {
    "collapsed": false
   },
   "outputs": [],
   "source": [
    "integrate_and_plot(nativesys, atol=1e-12, rtol=1e-12, return_on_root=True)"
   ]
  },
  {
   "cell_type": "code",
   "execution_count": null,
   "metadata": {
    "collapsed": false
   },
   "outputs": [],
   "source": [
    "integrate_and_plot(nativesys, atol=1e-11, rtol=1e-11, return_on_root=True)"
   ]
  },
  {
   "cell_type": "code",
   "execution_count": null,
   "metadata": {
    "collapsed": false
   },
   "outputs": [],
   "source": [
    "integrate_and_plot(nativesys, atol=1e-10, rtol=1e-10, return_on_root=True)"
   ]
  },
  {
   "cell_type": "code",
   "execution_count": null,
   "metadata": {
    "collapsed": false
   },
   "outputs": [],
   "source": [
    "def plot_tss_conv(factor, tols, ax):\n",
    "    native = native_sys['cvode'].from_other(kineticsys, namespace_override=native_override(factor))\n",
    "    tol_kw = dict(plot=False, return_on_root=True, nsteps=2000)\n",
    "    tss = [integrate_and_plot(native, atol=tol, rtol=tol, **tol_kw).xout[-1] for tol in tols]\n",
    "    ax.semilogx(tols, tss, label=factor)"
   ]
  },
  {
   "cell_type": "code",
   "execution_count": null,
   "metadata": {
    "collapsed": false
   },
   "outputs": [],
   "source": [
    "fig, ax = plt.subplots(figsize=(14, 6))\n",
    "tols = np.logspace(-15, -10, 200)\n",
    "for factor in [1e2, 1e3, 1e4, 1.1e4, 1e5, 1e6, 1e7]:\n",
    "    plot_tss_conv(factor, tols, ax)\n",
    "ax.legend()"
   ]
  },
  {
   "cell_type": "code",
   "execution_count": null,
   "metadata": {
    "collapsed": true
   },
   "outputs": [],
   "source": []
  }
 ],
 "metadata": {
  "kernelspec": {
   "display_name": "Python 3",
   "language": "python",
   "name": "python3"
  },
  "language_info": {
   "codemirror_mode": {
    "name": "ipython",
    "version": 3
   },
   "file_extension": ".py",
   "mimetype": "text/x-python",
   "name": "python",
   "nbconvert_exporter": "python",
   "pygments_lexer": "ipython3",
   "version": "3.5.2"
  }
 },
 "nbformat": 4,
 "nbformat_minor": 1
}

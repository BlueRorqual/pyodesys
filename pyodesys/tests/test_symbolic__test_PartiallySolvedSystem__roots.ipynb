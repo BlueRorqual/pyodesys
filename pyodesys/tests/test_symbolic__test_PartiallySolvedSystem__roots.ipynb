{
 "cells": [
  {
   "cell_type": "code",
   "execution_count": null,
   "metadata": {
    "collapsed": false
   },
   "outputs": [],
   "source": [
    "from bateman import bateman_full\n",
    "from sympy import symbols\n",
    "from scipy.optimize import brentq\n",
    "import sympy as sp\n",
    "import numpy as np\n",
    "import matplotlib.pyplot as plt\n",
    "sp.init_printing()\n",
    "%matplotlib inline"
   ]
  },
  {
   "cell_type": "code",
   "execution_count": null,
   "metadata": {
    "collapsed": false
   },
   "outputs": [],
   "source": [
    "args = t, x0, y0, z0, p, q = symbols('t x0 y0 z0 p q', real=True)\n",
    "analytic = bateman_full([x0, y0, z0], [p, q, 0], t, exp=sp.exp)"
   ]
  },
  {
   "cell_type": "code",
   "execution_count": null,
   "metadata": {
    "collapsed": false,
    "scrolled": true
   },
   "outputs": [],
   "source": [
    "# sp.solve(analytic[1] - analytic[2], t)  # raises NotImplementedError"
   ]
  },
  {
   "cell_type": "code",
   "execution_count": null,
   "metadata": {
    "collapsed": false
   },
   "outputs": [],
   "source": [
    "fx, fy, fz = [sp.lambdify(args, analytic[idx]) for idx in range(3)]\n",
    "xy = sp.lambdify(args, analytic[0] - analytic[1])\n",
    "xz = sp.lambdify(args, analytic[0] - analytic[2])\n",
    "yz = sp.lambdify(args, analytic[1] - analytic[2])\n",
    "params = 1, 0, 0, 7, 3\n",
    "def fxy(x):\n",
    "    return xy(x, *params)\n",
    "\n",
    "def fxz(x):\n",
    "    return xz(x, *params)\n",
    "\n",
    "def fyz(x):\n",
    "    return yz(x, *params)\n",
    "\n",
    "f = [fxy, fxz, fyz]"
   ]
  },
  {
   "cell_type": "code",
   "execution_count": null,
   "metadata": {
    "collapsed": false
   },
   "outputs": [],
   "source": [
    "zeros = xy0, xz0, yz0 = [brentq(func, *bounds) for func, bounds in zip(f, [(.05, .15), (.15, .3), (.3, .4)])]"
   ]
  },
  {
   "cell_type": "code",
   "execution_count": null,
   "metadata": {
    "collapsed": false
   },
   "outputs": [],
   "source": [
    "x = np.linspace(0, .5)\n",
    "y = np.array(bateman_full([1, 0, 0], [7, 3, 0], x, exp=np.exp)).T\n",
    "fig, ax = plt.subplots(1, 1, figsize=(14, 8))\n",
    "ax.vlines(zeros, 0, 1, transform=ax.get_xaxis_transform(), linestyle='--')\n",
    "ax.plot(zeros, [func(x, *params) for func, x in zip([fx, fx, fy], zeros)], 'or', markerfacecolor='None', markersize=15)\n",
    "ax.plot(x, y)\n",
    "print(zeros)"
   ]
  },
  {
   "cell_type": "code",
   "execution_count": null,
   "metadata": {
    "collapsed": true
   },
   "outputs": [],
   "source": []
  }
 ],
 "metadata": {
  "kernelspec": {
   "display_name": "Python 3",
   "language": "python",
   "name": "python3"
  },
  "language_info": {
   "codemirror_mode": {
    "name": "ipython",
    "version": 3
   },
   "file_extension": ".py",
   "mimetype": "text/x-python",
   "name": "python",
   "nbconvert_exporter": "python",
   "pygments_lexer": "ipython3",
   "version": "3.5.2"
  }
 },
 "nbformat": 4,
 "nbformat_minor": 1
}
